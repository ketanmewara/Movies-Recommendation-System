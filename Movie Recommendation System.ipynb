{
 "cells": [
  {
   "cell_type": "markdown",
   "id": "14b66c1c-1b7a-4a19-b423-18d815f48f26",
   "metadata": {},
   "source": [
    "# Movie Recommendation System \n",
    "## Content Based Filtering"
   ]
  },
  {
   "cell_type": "markdown",
   "id": "7fee3a6e-862b-4f3b-95c5-f796e807d293",
   "metadata": {},
   "source": [
    "## Load the dataset"
   ]
  },
  {
   "cell_type": "code",
   "execution_count": 1,
   "id": "d80b2b62-7a70-4c2d-8466-65fe47b8c45f",
   "metadata": {},
   "outputs": [],
   "source": [
    "import numpy as np\n",
    "import pandas as pd\n",
    "import seaborn as sns\n",
    "import matplotlib.pyplot as plt\n",
    "\n",
    "import warnings\n",
    "warnings.filterwarnings('ignore')"
   ]
  },
  {
   "cell_type": "code",
   "execution_count": 2,
   "id": "e2c7535e-ea38-4e36-a4eb-2e275bcd5f83",
   "metadata": {},
   "outputs": [],
   "source": [
    "movies = pd.read_csv('movies_dataset/movies_metadata.csv')\n",
    "credits = pd.read_csv('movies_dataset/credits.csv')"
   ]
  },
  {
   "cell_type": "code",
   "execution_count": 3,
   "id": "2cd5bf58-9a9d-4506-a685-2d3fff208f36",
   "metadata": {},
   "outputs": [
    {
     "data": {
      "text/html": [
       "<div>\n",
       "<style scoped>\n",
       "    .dataframe tbody tr th:only-of-type {\n",
       "        vertical-align: middle;\n",
       "    }\n",
       "\n",
       "    .dataframe tbody tr th {\n",
       "        vertical-align: top;\n",
       "    }\n",
       "\n",
       "    .dataframe thead th {\n",
       "        text-align: right;\n",
       "    }\n",
       "</style>\n",
       "<table border=\"1\" class=\"dataframe\">\n",
       "  <thead>\n",
       "    <tr style=\"text-align: right;\">\n",
       "      <th></th>\n",
       "      <th>adult</th>\n",
       "      <th>belongs_to_collection</th>\n",
       "      <th>budget</th>\n",
       "      <th>genres</th>\n",
       "      <th>homepage</th>\n",
       "      <th>id</th>\n",
       "      <th>imdb_id</th>\n",
       "      <th>original_language</th>\n",
       "      <th>original_title</th>\n",
       "      <th>overview</th>\n",
       "      <th>...</th>\n",
       "      <th>release_date</th>\n",
       "      <th>revenue</th>\n",
       "      <th>runtime</th>\n",
       "      <th>spoken_languages</th>\n",
       "      <th>status</th>\n",
       "      <th>tagline</th>\n",
       "      <th>title</th>\n",
       "      <th>video</th>\n",
       "      <th>vote_average</th>\n",
       "      <th>vote_count</th>\n",
       "    </tr>\n",
       "  </thead>\n",
       "  <tbody>\n",
       "    <tr>\n",
       "      <th>0</th>\n",
       "      <td>False</td>\n",
       "      <td>{'id': 10194, 'name': 'Toy Story Collection', ...</td>\n",
       "      <td>30000000</td>\n",
       "      <td>[{'id': 16, 'name': 'Animation'}, {'id': 35, '...</td>\n",
       "      <td>http://toystory.disney.com/toy-story</td>\n",
       "      <td>862</td>\n",
       "      <td>tt0114709</td>\n",
       "      <td>en</td>\n",
       "      <td>Toy Story</td>\n",
       "      <td>Led by Woody, Andy's toys live happily in his ...</td>\n",
       "      <td>...</td>\n",
       "      <td>1995-10-30</td>\n",
       "      <td>373554033.0</td>\n",
       "      <td>81.0</td>\n",
       "      <td>[{'iso_639_1': 'en', 'name': 'English'}]</td>\n",
       "      <td>Released</td>\n",
       "      <td>NaN</td>\n",
       "      <td>Toy Story</td>\n",
       "      <td>False</td>\n",
       "      <td>7.7</td>\n",
       "      <td>5415.0</td>\n",
       "    </tr>\n",
       "    <tr>\n",
       "      <th>1</th>\n",
       "      <td>False</td>\n",
       "      <td>NaN</td>\n",
       "      <td>65000000</td>\n",
       "      <td>[{'id': 12, 'name': 'Adventure'}, {'id': 14, '...</td>\n",
       "      <td>NaN</td>\n",
       "      <td>8844</td>\n",
       "      <td>tt0113497</td>\n",
       "      <td>en</td>\n",
       "      <td>Jumanji</td>\n",
       "      <td>When siblings Judy and Peter discover an encha...</td>\n",
       "      <td>...</td>\n",
       "      <td>1995-12-15</td>\n",
       "      <td>262797249.0</td>\n",
       "      <td>104.0</td>\n",
       "      <td>[{'iso_639_1': 'en', 'name': 'English'}, {'iso...</td>\n",
       "      <td>Released</td>\n",
       "      <td>Roll the dice and unleash the excitement!</td>\n",
       "      <td>Jumanji</td>\n",
       "      <td>False</td>\n",
       "      <td>6.9</td>\n",
       "      <td>2413.0</td>\n",
       "    </tr>\n",
       "    <tr>\n",
       "      <th>2</th>\n",
       "      <td>False</td>\n",
       "      <td>{'id': 119050, 'name': 'Grumpy Old Men Collect...</td>\n",
       "      <td>0</td>\n",
       "      <td>[{'id': 10749, 'name': 'Romance'}, {'id': 35, ...</td>\n",
       "      <td>NaN</td>\n",
       "      <td>15602</td>\n",
       "      <td>tt0113228</td>\n",
       "      <td>en</td>\n",
       "      <td>Grumpier Old Men</td>\n",
       "      <td>A family wedding reignites the ancient feud be...</td>\n",
       "      <td>...</td>\n",
       "      <td>1995-12-22</td>\n",
       "      <td>0.0</td>\n",
       "      <td>101.0</td>\n",
       "      <td>[{'iso_639_1': 'en', 'name': 'English'}]</td>\n",
       "      <td>Released</td>\n",
       "      <td>Still Yelling. Still Fighting. Still Ready for...</td>\n",
       "      <td>Grumpier Old Men</td>\n",
       "      <td>False</td>\n",
       "      <td>6.5</td>\n",
       "      <td>92.0</td>\n",
       "    </tr>\n",
       "    <tr>\n",
       "      <th>3</th>\n",
       "      <td>False</td>\n",
       "      <td>NaN</td>\n",
       "      <td>16000000</td>\n",
       "      <td>[{'id': 35, 'name': 'Comedy'}, {'id': 18, 'nam...</td>\n",
       "      <td>NaN</td>\n",
       "      <td>31357</td>\n",
       "      <td>tt0114885</td>\n",
       "      <td>en</td>\n",
       "      <td>Waiting to Exhale</td>\n",
       "      <td>Cheated on, mistreated and stepped on, the wom...</td>\n",
       "      <td>...</td>\n",
       "      <td>1995-12-22</td>\n",
       "      <td>81452156.0</td>\n",
       "      <td>127.0</td>\n",
       "      <td>[{'iso_639_1': 'en', 'name': 'English'}]</td>\n",
       "      <td>Released</td>\n",
       "      <td>Friends are the people who let you be yourself...</td>\n",
       "      <td>Waiting to Exhale</td>\n",
       "      <td>False</td>\n",
       "      <td>6.1</td>\n",
       "      <td>34.0</td>\n",
       "    </tr>\n",
       "    <tr>\n",
       "      <th>4</th>\n",
       "      <td>False</td>\n",
       "      <td>{'id': 96871, 'name': 'Father of the Bride Col...</td>\n",
       "      <td>0</td>\n",
       "      <td>[{'id': 35, 'name': 'Comedy'}]</td>\n",
       "      <td>NaN</td>\n",
       "      <td>11862</td>\n",
       "      <td>tt0113041</td>\n",
       "      <td>en</td>\n",
       "      <td>Father of the Bride Part II</td>\n",
       "      <td>Just when George Banks has recovered from his ...</td>\n",
       "      <td>...</td>\n",
       "      <td>1995-02-10</td>\n",
       "      <td>76578911.0</td>\n",
       "      <td>106.0</td>\n",
       "      <td>[{'iso_639_1': 'en', 'name': 'English'}]</td>\n",
       "      <td>Released</td>\n",
       "      <td>Just When His World Is Back To Normal... He's ...</td>\n",
       "      <td>Father of the Bride Part II</td>\n",
       "      <td>False</td>\n",
       "      <td>5.7</td>\n",
       "      <td>173.0</td>\n",
       "    </tr>\n",
       "  </tbody>\n",
       "</table>\n",
       "<p>5 rows × 24 columns</p>\n",
       "</div>"
      ],
      "text/plain": [
       "   adult                              belongs_to_collection    budget  \\\n",
       "0  False  {'id': 10194, 'name': 'Toy Story Collection', ...  30000000   \n",
       "1  False                                                NaN  65000000   \n",
       "2  False  {'id': 119050, 'name': 'Grumpy Old Men Collect...         0   \n",
       "3  False                                                NaN  16000000   \n",
       "4  False  {'id': 96871, 'name': 'Father of the Bride Col...         0   \n",
       "\n",
       "                                              genres  \\\n",
       "0  [{'id': 16, 'name': 'Animation'}, {'id': 35, '...   \n",
       "1  [{'id': 12, 'name': 'Adventure'}, {'id': 14, '...   \n",
       "2  [{'id': 10749, 'name': 'Romance'}, {'id': 35, ...   \n",
       "3  [{'id': 35, 'name': 'Comedy'}, {'id': 18, 'nam...   \n",
       "4                     [{'id': 35, 'name': 'Comedy'}]   \n",
       "\n",
       "                               homepage     id    imdb_id original_language  \\\n",
       "0  http://toystory.disney.com/toy-story    862  tt0114709                en   \n",
       "1                                   NaN   8844  tt0113497                en   \n",
       "2                                   NaN  15602  tt0113228                en   \n",
       "3                                   NaN  31357  tt0114885                en   \n",
       "4                                   NaN  11862  tt0113041                en   \n",
       "\n",
       "                original_title  \\\n",
       "0                    Toy Story   \n",
       "1                      Jumanji   \n",
       "2             Grumpier Old Men   \n",
       "3            Waiting to Exhale   \n",
       "4  Father of the Bride Part II   \n",
       "\n",
       "                                            overview  ... release_date  \\\n",
       "0  Led by Woody, Andy's toys live happily in his ...  ...   1995-10-30   \n",
       "1  When siblings Judy and Peter discover an encha...  ...   1995-12-15   \n",
       "2  A family wedding reignites the ancient feud be...  ...   1995-12-22   \n",
       "3  Cheated on, mistreated and stepped on, the wom...  ...   1995-12-22   \n",
       "4  Just when George Banks has recovered from his ...  ...   1995-02-10   \n",
       "\n",
       "       revenue runtime                                   spoken_languages  \\\n",
       "0  373554033.0    81.0           [{'iso_639_1': 'en', 'name': 'English'}]   \n",
       "1  262797249.0   104.0  [{'iso_639_1': 'en', 'name': 'English'}, {'iso...   \n",
       "2          0.0   101.0           [{'iso_639_1': 'en', 'name': 'English'}]   \n",
       "3   81452156.0   127.0           [{'iso_639_1': 'en', 'name': 'English'}]   \n",
       "4   76578911.0   106.0           [{'iso_639_1': 'en', 'name': 'English'}]   \n",
       "\n",
       "     status                                            tagline  \\\n",
       "0  Released                                                NaN   \n",
       "1  Released          Roll the dice and unleash the excitement!   \n",
       "2  Released  Still Yelling. Still Fighting. Still Ready for...   \n",
       "3  Released  Friends are the people who let you be yourself...   \n",
       "4  Released  Just When His World Is Back To Normal... He's ...   \n",
       "\n",
       "                         title  video vote_average vote_count  \n",
       "0                    Toy Story  False          7.7     5415.0  \n",
       "1                      Jumanji  False          6.9     2413.0  \n",
       "2             Grumpier Old Men  False          6.5       92.0  \n",
       "3            Waiting to Exhale  False          6.1       34.0  \n",
       "4  Father of the Bride Part II  False          5.7      173.0  \n",
       "\n",
       "[5 rows x 24 columns]"
      ]
     },
     "execution_count": 3,
     "metadata": {},
     "output_type": "execute_result"
    }
   ],
   "source": [
    "movies.head()"
   ]
  },
  {
   "cell_type": "code",
   "execution_count": 4,
   "id": "95898674-5bca-4772-88a6-51670d6cbf76",
   "metadata": {},
   "outputs": [
    {
     "data": {
      "text/html": [
       "<div>\n",
       "<style scoped>\n",
       "    .dataframe tbody tr th:only-of-type {\n",
       "        vertical-align: middle;\n",
       "    }\n",
       "\n",
       "    .dataframe tbody tr th {\n",
       "        vertical-align: top;\n",
       "    }\n",
       "\n",
       "    .dataframe thead th {\n",
       "        text-align: right;\n",
       "    }\n",
       "</style>\n",
       "<table border=\"1\" class=\"dataframe\">\n",
       "  <thead>\n",
       "    <tr style=\"text-align: right;\">\n",
       "      <th></th>\n",
       "      <th>cast</th>\n",
       "      <th>crew</th>\n",
       "      <th>id</th>\n",
       "    </tr>\n",
       "  </thead>\n",
       "  <tbody>\n",
       "    <tr>\n",
       "      <th>0</th>\n",
       "      <td>[{'cast_id': 14, 'character': 'Woody (voice)',...</td>\n",
       "      <td>[{'credit_id': '52fe4284c3a36847f8024f49', 'de...</td>\n",
       "      <td>862</td>\n",
       "    </tr>\n",
       "    <tr>\n",
       "      <th>1</th>\n",
       "      <td>[{'cast_id': 1, 'character': 'Alan Parrish', '...</td>\n",
       "      <td>[{'credit_id': '52fe44bfc3a36847f80a7cd1', 'de...</td>\n",
       "      <td>8844</td>\n",
       "    </tr>\n",
       "    <tr>\n",
       "      <th>2</th>\n",
       "      <td>[{'cast_id': 2, 'character': 'Max Goldman', 'c...</td>\n",
       "      <td>[{'credit_id': '52fe466a9251416c75077a89', 'de...</td>\n",
       "      <td>15602</td>\n",
       "    </tr>\n",
       "    <tr>\n",
       "      <th>3</th>\n",
       "      <td>[{'cast_id': 1, 'character': \"Savannah 'Vannah...</td>\n",
       "      <td>[{'credit_id': '52fe44779251416c91011acb', 'de...</td>\n",
       "      <td>31357</td>\n",
       "    </tr>\n",
       "    <tr>\n",
       "      <th>4</th>\n",
       "      <td>[{'cast_id': 1, 'character': 'George Banks', '...</td>\n",
       "      <td>[{'credit_id': '52fe44959251416c75039ed7', 'de...</td>\n",
       "      <td>11862</td>\n",
       "    </tr>\n",
       "  </tbody>\n",
       "</table>\n",
       "</div>"
      ],
      "text/plain": [
       "                                                cast  \\\n",
       "0  [{'cast_id': 14, 'character': 'Woody (voice)',...   \n",
       "1  [{'cast_id': 1, 'character': 'Alan Parrish', '...   \n",
       "2  [{'cast_id': 2, 'character': 'Max Goldman', 'c...   \n",
       "3  [{'cast_id': 1, 'character': \"Savannah 'Vannah...   \n",
       "4  [{'cast_id': 1, 'character': 'George Banks', '...   \n",
       "\n",
       "                                                crew     id  \n",
       "0  [{'credit_id': '52fe4284c3a36847f8024f49', 'de...    862  \n",
       "1  [{'credit_id': '52fe44bfc3a36847f80a7cd1', 'de...   8844  \n",
       "2  [{'credit_id': '52fe466a9251416c75077a89', 'de...  15602  \n",
       "3  [{'credit_id': '52fe44779251416c91011acb', 'de...  31357  \n",
       "4  [{'credit_id': '52fe44959251416c75039ed7', 'de...  11862  "
      ]
     },
     "execution_count": 4,
     "metadata": {},
     "output_type": "execute_result"
    }
   ],
   "source": [
    "credits.head()"
   ]
  },
  {
   "cell_type": "code",
   "execution_count": 5,
   "id": "a321923a-4d3f-451e-8b21-bceb85ea444c",
   "metadata": {},
   "outputs": [
    {
     "name": "stdout",
     "output_type": "stream",
     "text": [
      "<class 'pandas.core.frame.DataFrame'>\n",
      "RangeIndex: 45466 entries, 0 to 45465\n",
      "Data columns (total 24 columns):\n",
      " #   Column                 Non-Null Count  Dtype  \n",
      "---  ------                 --------------  -----  \n",
      " 0   adult                  45466 non-null  object \n",
      " 1   belongs_to_collection  4494 non-null   object \n",
      " 2   budget                 45466 non-null  object \n",
      " 3   genres                 45466 non-null  object \n",
      " 4   homepage               7782 non-null   object \n",
      " 5   id                     45466 non-null  object \n",
      " 6   imdb_id                45449 non-null  object \n",
      " 7   original_language      45455 non-null  object \n",
      " 8   original_title         45466 non-null  object \n",
      " 9   overview               44512 non-null  object \n",
      " 10  popularity             45461 non-null  object \n",
      " 11  poster_path            45080 non-null  object \n",
      " 12  production_companies   45463 non-null  object \n",
      " 13  production_countries   45463 non-null  object \n",
      " 14  release_date           45379 non-null  object \n",
      " 15  revenue                45460 non-null  float64\n",
      " 16  runtime                45203 non-null  float64\n",
      " 17  spoken_languages       45460 non-null  object \n",
      " 18  status                 45379 non-null  object \n",
      " 19  tagline                20412 non-null  object \n",
      " 20  title                  45460 non-null  object \n",
      " 21  video                  45460 non-null  object \n",
      " 22  vote_average           45460 non-null  float64\n",
      " 23  vote_count             45460 non-null  float64\n",
      "dtypes: float64(4), object(20)\n",
      "memory usage: 8.3+ MB\n"
     ]
    }
   ],
   "source": [
    "movies.info()"
   ]
  },
  {
   "cell_type": "code",
   "execution_count": 6,
   "id": "304b0e94-a38c-4b43-9ce3-144150ad6cbb",
   "metadata": {},
   "outputs": [
    {
     "data": {
      "text/plain": [
       "(45466, 24)"
      ]
     },
     "execution_count": 6,
     "metadata": {},
     "output_type": "execute_result"
    }
   ],
   "source": [
    "movies.shape"
   ]
  },
  {
   "cell_type": "code",
   "execution_count": 7,
   "id": "2ce35a24-a5ba-4c7e-987e-ce4fc9ae723e",
   "metadata": {},
   "outputs": [
    {
     "name": "stdout",
     "output_type": "stream",
     "text": [
      "<class 'pandas.core.frame.DataFrame'>\n",
      "RangeIndex: 45476 entries, 0 to 45475\n",
      "Data columns (total 3 columns):\n",
      " #   Column  Non-Null Count  Dtype \n",
      "---  ------  --------------  ----- \n",
      " 0   cast    45476 non-null  object\n",
      " 1   crew    45476 non-null  object\n",
      " 2   id      45476 non-null  int64 \n",
      "dtypes: int64(1), object(2)\n",
      "memory usage: 1.0+ MB\n"
     ]
    }
   ],
   "source": [
    "credits.info()"
   ]
  },
  {
   "cell_type": "code",
   "execution_count": 8,
   "id": "3f156900-768b-4df6-9e67-34d6e55ed876",
   "metadata": {},
   "outputs": [
    {
     "data": {
      "text/plain": [
       "(45476, 3)"
      ]
     },
     "execution_count": 8,
     "metadata": {},
     "output_type": "execute_result"
    }
   ],
   "source": [
    "credits.shape"
   ]
  },
  {
   "cell_type": "code",
   "execution_count": 9,
   "id": "4966ed9b-32f9-4b1d-92d0-4f4b1c1a4ca5",
   "metadata": {},
   "outputs": [],
   "source": [
    "movies_df = movies.drop_duplicates()\n",
    "credits_df = credits.drop_duplicates()"
   ]
  },
  {
   "cell_type": "markdown",
   "id": "dff5af79-721b-41ef-a481-5038e92b901b",
   "metadata": {},
   "source": [
    "## Concate dataset"
   ]
  },
  {
   "cell_type": "code",
   "execution_count": 10,
   "id": "486f1d60-bb3c-4fec-b560-3a8fceb091a1",
   "metadata": {},
   "outputs": [
    {
     "data": {
      "text/html": [
       "<div>\n",
       "<style scoped>\n",
       "    .dataframe tbody tr th:only-of-type {\n",
       "        vertical-align: middle;\n",
       "    }\n",
       "\n",
       "    .dataframe tbody tr th {\n",
       "        vertical-align: top;\n",
       "    }\n",
       "\n",
       "    .dataframe thead th {\n",
       "        text-align: right;\n",
       "    }\n",
       "</style>\n",
       "<table border=\"1\" class=\"dataframe\">\n",
       "  <thead>\n",
       "    <tr style=\"text-align: right;\">\n",
       "      <th></th>\n",
       "      <th>adult</th>\n",
       "      <th>belongs_to_collection</th>\n",
       "      <th>budget</th>\n",
       "      <th>genres</th>\n",
       "      <th>homepage</th>\n",
       "      <th>id</th>\n",
       "      <th>imdb_id</th>\n",
       "      <th>original_language</th>\n",
       "      <th>original_title</th>\n",
       "      <th>overview</th>\n",
       "      <th>...</th>\n",
       "      <th>spoken_languages</th>\n",
       "      <th>status</th>\n",
       "      <th>tagline</th>\n",
       "      <th>title</th>\n",
       "      <th>video</th>\n",
       "      <th>vote_average</th>\n",
       "      <th>vote_count</th>\n",
       "      <th>cast</th>\n",
       "      <th>crew</th>\n",
       "      <th>id</th>\n",
       "    </tr>\n",
       "  </thead>\n",
       "  <tbody>\n",
       "    <tr>\n",
       "      <th>0</th>\n",
       "      <td>False</td>\n",
       "      <td>{'id': 10194, 'name': 'Toy Story Collection', ...</td>\n",
       "      <td>30000000</td>\n",
       "      <td>[{'id': 16, 'name': 'Animation'}, {'id': 35, '...</td>\n",
       "      <td>http://toystory.disney.com/toy-story</td>\n",
       "      <td>862</td>\n",
       "      <td>tt0114709</td>\n",
       "      <td>en</td>\n",
       "      <td>Toy Story</td>\n",
       "      <td>Led by Woody, Andy's toys live happily in his ...</td>\n",
       "      <td>...</td>\n",
       "      <td>[{'iso_639_1': 'en', 'name': 'English'}]</td>\n",
       "      <td>Released</td>\n",
       "      <td>NaN</td>\n",
       "      <td>Toy Story</td>\n",
       "      <td>False</td>\n",
       "      <td>7.7</td>\n",
       "      <td>5415.0</td>\n",
       "      <td>[{'cast_id': 14, 'character': 'Woody (voice)',...</td>\n",
       "      <td>[{'credit_id': '52fe4284c3a36847f8024f49', 'de...</td>\n",
       "      <td>862.0</td>\n",
       "    </tr>\n",
       "    <tr>\n",
       "      <th>1</th>\n",
       "      <td>False</td>\n",
       "      <td>NaN</td>\n",
       "      <td>65000000</td>\n",
       "      <td>[{'id': 12, 'name': 'Adventure'}, {'id': 14, '...</td>\n",
       "      <td>NaN</td>\n",
       "      <td>8844</td>\n",
       "      <td>tt0113497</td>\n",
       "      <td>en</td>\n",
       "      <td>Jumanji</td>\n",
       "      <td>When siblings Judy and Peter discover an encha...</td>\n",
       "      <td>...</td>\n",
       "      <td>[{'iso_639_1': 'en', 'name': 'English'}, {'iso...</td>\n",
       "      <td>Released</td>\n",
       "      <td>Roll the dice and unleash the excitement!</td>\n",
       "      <td>Jumanji</td>\n",
       "      <td>False</td>\n",
       "      <td>6.9</td>\n",
       "      <td>2413.0</td>\n",
       "      <td>[{'cast_id': 1, 'character': 'Alan Parrish', '...</td>\n",
       "      <td>[{'credit_id': '52fe44bfc3a36847f80a7cd1', 'de...</td>\n",
       "      <td>8844.0</td>\n",
       "    </tr>\n",
       "    <tr>\n",
       "      <th>2</th>\n",
       "      <td>False</td>\n",
       "      <td>{'id': 119050, 'name': 'Grumpy Old Men Collect...</td>\n",
       "      <td>0</td>\n",
       "      <td>[{'id': 10749, 'name': 'Romance'}, {'id': 35, ...</td>\n",
       "      <td>NaN</td>\n",
       "      <td>15602</td>\n",
       "      <td>tt0113228</td>\n",
       "      <td>en</td>\n",
       "      <td>Grumpier Old Men</td>\n",
       "      <td>A family wedding reignites the ancient feud be...</td>\n",
       "      <td>...</td>\n",
       "      <td>[{'iso_639_1': 'en', 'name': 'English'}]</td>\n",
       "      <td>Released</td>\n",
       "      <td>Still Yelling. Still Fighting. Still Ready for...</td>\n",
       "      <td>Grumpier Old Men</td>\n",
       "      <td>False</td>\n",
       "      <td>6.5</td>\n",
       "      <td>92.0</td>\n",
       "      <td>[{'cast_id': 2, 'character': 'Max Goldman', 'c...</td>\n",
       "      <td>[{'credit_id': '52fe466a9251416c75077a89', 'de...</td>\n",
       "      <td>15602.0</td>\n",
       "    </tr>\n",
       "    <tr>\n",
       "      <th>3</th>\n",
       "      <td>False</td>\n",
       "      <td>NaN</td>\n",
       "      <td>16000000</td>\n",
       "      <td>[{'id': 35, 'name': 'Comedy'}, {'id': 18, 'nam...</td>\n",
       "      <td>NaN</td>\n",
       "      <td>31357</td>\n",
       "      <td>tt0114885</td>\n",
       "      <td>en</td>\n",
       "      <td>Waiting to Exhale</td>\n",
       "      <td>Cheated on, mistreated and stepped on, the wom...</td>\n",
       "      <td>...</td>\n",
       "      <td>[{'iso_639_1': 'en', 'name': 'English'}]</td>\n",
       "      <td>Released</td>\n",
       "      <td>Friends are the people who let you be yourself...</td>\n",
       "      <td>Waiting to Exhale</td>\n",
       "      <td>False</td>\n",
       "      <td>6.1</td>\n",
       "      <td>34.0</td>\n",
       "      <td>[{'cast_id': 1, 'character': \"Savannah 'Vannah...</td>\n",
       "      <td>[{'credit_id': '52fe44779251416c91011acb', 'de...</td>\n",
       "      <td>31357.0</td>\n",
       "    </tr>\n",
       "    <tr>\n",
       "      <th>4</th>\n",
       "      <td>False</td>\n",
       "      <td>{'id': 96871, 'name': 'Father of the Bride Col...</td>\n",
       "      <td>0</td>\n",
       "      <td>[{'id': 35, 'name': 'Comedy'}]</td>\n",
       "      <td>NaN</td>\n",
       "      <td>11862</td>\n",
       "      <td>tt0113041</td>\n",
       "      <td>en</td>\n",
       "      <td>Father of the Bride Part II</td>\n",
       "      <td>Just when George Banks has recovered from his ...</td>\n",
       "      <td>...</td>\n",
       "      <td>[{'iso_639_1': 'en', 'name': 'English'}]</td>\n",
       "      <td>Released</td>\n",
       "      <td>Just When His World Is Back To Normal... He's ...</td>\n",
       "      <td>Father of the Bride Part II</td>\n",
       "      <td>False</td>\n",
       "      <td>5.7</td>\n",
       "      <td>173.0</td>\n",
       "      <td>[{'cast_id': 1, 'character': 'George Banks', '...</td>\n",
       "      <td>[{'credit_id': '52fe44959251416c75039ed7', 'de...</td>\n",
       "      <td>11862.0</td>\n",
       "    </tr>\n",
       "  </tbody>\n",
       "</table>\n",
       "<p>5 rows × 27 columns</p>\n",
       "</div>"
      ],
      "text/plain": [
       "   adult                              belongs_to_collection    budget  \\\n",
       "0  False  {'id': 10194, 'name': 'Toy Story Collection', ...  30000000   \n",
       "1  False                                                NaN  65000000   \n",
       "2  False  {'id': 119050, 'name': 'Grumpy Old Men Collect...         0   \n",
       "3  False                                                NaN  16000000   \n",
       "4  False  {'id': 96871, 'name': 'Father of the Bride Col...         0   \n",
       "\n",
       "                                              genres  \\\n",
       "0  [{'id': 16, 'name': 'Animation'}, {'id': 35, '...   \n",
       "1  [{'id': 12, 'name': 'Adventure'}, {'id': 14, '...   \n",
       "2  [{'id': 10749, 'name': 'Romance'}, {'id': 35, ...   \n",
       "3  [{'id': 35, 'name': 'Comedy'}, {'id': 18, 'nam...   \n",
       "4                     [{'id': 35, 'name': 'Comedy'}]   \n",
       "\n",
       "                               homepage     id    imdb_id original_language  \\\n",
       "0  http://toystory.disney.com/toy-story    862  tt0114709                en   \n",
       "1                                   NaN   8844  tt0113497                en   \n",
       "2                                   NaN  15602  tt0113228                en   \n",
       "3                                   NaN  31357  tt0114885                en   \n",
       "4                                   NaN  11862  tt0113041                en   \n",
       "\n",
       "                original_title  \\\n",
       "0                    Toy Story   \n",
       "1                      Jumanji   \n",
       "2             Grumpier Old Men   \n",
       "3            Waiting to Exhale   \n",
       "4  Father of the Bride Part II   \n",
       "\n",
       "                                            overview  ...  \\\n",
       "0  Led by Woody, Andy's toys live happily in his ...  ...   \n",
       "1  When siblings Judy and Peter discover an encha...  ...   \n",
       "2  A family wedding reignites the ancient feud be...  ...   \n",
       "3  Cheated on, mistreated and stepped on, the wom...  ...   \n",
       "4  Just when George Banks has recovered from his ...  ...   \n",
       "\n",
       "                                    spoken_languages    status  \\\n",
       "0           [{'iso_639_1': 'en', 'name': 'English'}]  Released   \n",
       "1  [{'iso_639_1': 'en', 'name': 'English'}, {'iso...  Released   \n",
       "2           [{'iso_639_1': 'en', 'name': 'English'}]  Released   \n",
       "3           [{'iso_639_1': 'en', 'name': 'English'}]  Released   \n",
       "4           [{'iso_639_1': 'en', 'name': 'English'}]  Released   \n",
       "\n",
       "                                             tagline  \\\n",
       "0                                                NaN   \n",
       "1          Roll the dice and unleash the excitement!   \n",
       "2  Still Yelling. Still Fighting. Still Ready for...   \n",
       "3  Friends are the people who let you be yourself...   \n",
       "4  Just When His World Is Back To Normal... He's ...   \n",
       "\n",
       "                         title  video  vote_average  vote_count  \\\n",
       "0                    Toy Story  False           7.7      5415.0   \n",
       "1                      Jumanji  False           6.9      2413.0   \n",
       "2             Grumpier Old Men  False           6.5        92.0   \n",
       "3            Waiting to Exhale  False           6.1        34.0   \n",
       "4  Father of the Bride Part II  False           5.7       173.0   \n",
       "\n",
       "                                                cast  \\\n",
       "0  [{'cast_id': 14, 'character': 'Woody (voice)',...   \n",
       "1  [{'cast_id': 1, 'character': 'Alan Parrish', '...   \n",
       "2  [{'cast_id': 2, 'character': 'Max Goldman', 'c...   \n",
       "3  [{'cast_id': 1, 'character': \"Savannah 'Vannah...   \n",
       "4  [{'cast_id': 1, 'character': 'George Banks', '...   \n",
       "\n",
       "                                                crew       id  \n",
       "0  [{'credit_id': '52fe4284c3a36847f8024f49', 'de...    862.0  \n",
       "1  [{'credit_id': '52fe44bfc3a36847f80a7cd1', 'de...   8844.0  \n",
       "2  [{'credit_id': '52fe466a9251416c75077a89', 'de...  15602.0  \n",
       "3  [{'credit_id': '52fe44779251416c91011acb', 'de...  31357.0  \n",
       "4  [{'credit_id': '52fe44959251416c75039ed7', 'de...  11862.0  \n",
       "\n",
       "[5 rows x 27 columns]"
      ]
     },
     "execution_count": 10,
     "metadata": {},
     "output_type": "execute_result"
    }
   ],
   "source": [
    "concat_data = pd.concat([movies_df,credits_df],axis=1)\n",
    "concat_data.head()"
   ]
  },
  {
   "cell_type": "markdown",
   "id": "0afd8905-5222-4452-bd32-22eb59d3978a",
   "metadata": {},
   "source": [
    "## Exploratory data analysis"
   ]
  },
  {
   "cell_type": "markdown",
   "id": "8dedf55a-9fdb-4a6e-b9ea-c48f3b0df825",
   "metadata": {},
   "source": [
    "#### Q1. Which are the movies that have the highest budget?"
   ]
  },
  {
   "cell_type": "code",
   "execution_count": 11,
   "id": "2963b0b0-ddfe-4636-96b5-a75ba5324f3c",
   "metadata": {},
   "outputs": [],
   "source": [
    "high_budget_movie = movies_df.groupby('title')['budget'].sum().sort_values(ascending=False)[:10].reset_index()"
   ]
  },
  {
   "cell_type": "code",
   "execution_count": 12,
   "id": "20e98b81-adc9-4a19-9c48-a2af11278a93",
   "metadata": {},
   "outputs": [],
   "source": [
    "high_budget_movie['budget'] = high_budget_movie['budget'].astype('int64')"
   ]
  },
  {
   "cell_type": "code",
   "execution_count": 13,
   "id": "7a5e8753-10e3-454c-aba2-2d2ba7924f90",
   "metadata": {},
   "outputs": [
    {
     "data": {
      "text/html": [
       "<div>\n",
       "<style scoped>\n",
       "    .dataframe tbody tr th:only-of-type {\n",
       "        vertical-align: middle;\n",
       "    }\n",
       "\n",
       "    .dataframe tbody tr th {\n",
       "        vertical-align: top;\n",
       "    }\n",
       "\n",
       "    .dataframe thead th {\n",
       "        text-align: right;\n",
       "    }\n",
       "</style>\n",
       "<table border=\"1\" class=\"dataframe\">\n",
       "  <thead>\n",
       "    <tr style=\"text-align: right;\">\n",
       "      <th></th>\n",
       "      <th>title</th>\n",
       "      <th>budget</th>\n",
       "    </tr>\n",
       "  </thead>\n",
       "  <tbody>\n",
       "    <tr>\n",
       "      <th>0</th>\n",
       "      <td>The Peanuts Movie</td>\n",
       "      <td>99000000</td>\n",
       "    </tr>\n",
       "    <tr>\n",
       "      <th>1</th>\n",
       "      <td>The Mummy Returns</td>\n",
       "      <td>98000000</td>\n",
       "    </tr>\n",
       "    <tr>\n",
       "      <th>2</th>\n",
       "      <td>Cutthroat Island</td>\n",
       "      <td>98000000</td>\n",
       "    </tr>\n",
       "    <tr>\n",
       "      <th>3</th>\n",
       "      <td>Friend Request</td>\n",
       "      <td>9900000</td>\n",
       "    </tr>\n",
       "    <tr>\n",
       "      <th>4</th>\n",
       "      <td>Don't Breathe</td>\n",
       "      <td>9900000</td>\n",
       "    </tr>\n",
       "    <tr>\n",
       "      <th>5</th>\n",
       "      <td>Elle</td>\n",
       "      <td>9804690</td>\n",
       "    </tr>\n",
       "    <tr>\n",
       "      <th>6</th>\n",
       "      <td>Revolutionary Girl Utena: The Movie</td>\n",
       "      <td>998000</td>\n",
       "    </tr>\n",
       "    <tr>\n",
       "      <th>7</th>\n",
       "      <td>Life Feels Good</td>\n",
       "      <td>996519</td>\n",
       "    </tr>\n",
       "    <tr>\n",
       "      <th>8</th>\n",
       "      <td>Kidulthood</td>\n",
       "      <td>994000</td>\n",
       "    </tr>\n",
       "    <tr>\n",
       "      <th>9</th>\n",
       "      <td>BMX Bandits</td>\n",
       "      <td>980385</td>\n",
       "    </tr>\n",
       "  </tbody>\n",
       "</table>\n",
       "</div>"
      ],
      "text/plain": [
       "                                 title    budget\n",
       "0                    The Peanuts Movie  99000000\n",
       "1                    The Mummy Returns  98000000\n",
       "2                     Cutthroat Island  98000000\n",
       "3                       Friend Request   9900000\n",
       "4                        Don't Breathe   9900000\n",
       "5                                 Elle   9804690\n",
       "6  Revolutionary Girl Utena: The Movie    998000\n",
       "7                      Life Feels Good    996519\n",
       "8                           Kidulthood    994000\n",
       "9                          BMX Bandits    980385"
      ]
     },
     "execution_count": 13,
     "metadata": {},
     "output_type": "execute_result"
    }
   ],
   "source": [
    "# here are the top 10 highest budget movies\n",
    "top_10_high_budget_movie = high_budget_movie.sort_values(by=['budget'], ascending=False).reset_index(drop=True)\n",
    "top_10_high_budget_movie"
   ]
  },
  {
   "cell_type": "code",
   "execution_count": 14,
   "id": "249ce170-0e23-4b36-8efe-ce44b5dc5ea5",
   "metadata": {},
   "outputs": [
    {
     "data": {
      "image/png": "[encoded data removed]",
      "text/plain": [
       "<Figure size 640x480 with 1 Axes>"
      ]
     },
     "metadata": {},
     "output_type": "display_data"
    }
   ],
   "source": [
    "sns.barplot(x=top_10_high_budget_movie['budget'], y=top_10_high_budget_movie['title']);"
   ]
  },
  {
   "cell_type": "markdown",
   "id": "1a152831-f8e7-46a6-9836-507b8e42f784",
   "metadata": {},
   "source": [
    "## Feature Engineering"
   ]
  },
  {
   "cell_type": "code",
   "execution_count": 20,
   "id": "ec7251d3-f9cd-4b91-b3a0-f865b0588001",
   "metadata": {},
   "outputs": [],
   "source": [
    "sample_data = concat_data.sample(10000)"
   ]
  },
  {
   "cell_type": "code",
   "execution_count": 22,
   "id": "594dd6ab-3206-4cd2-a1be-9b6369272c95",
   "metadata": {},
   "outputs": [
    {
     "data": {
      "text/plain": [
       "Index(['adult', 'belongs_to_collection', 'budget', 'genres', 'homepage', 'id',\n",
       "       'imdb_id', 'original_language', 'original_title', 'overview',\n",
       "       'popularity', 'poster_path', 'production_companies',\n",
       "       'production_countries', 'release_date', 'revenue', 'runtime',\n",
       "       'spoken_languages', 'status', 'tagline', 'title', 'video',\n",
       "       'vote_average', 'vote_count', 'cast', 'crew', 'id'],\n",
       "      dtype='object')"
      ]
     },
     "execution_count": 22,
     "metadata": {},
     "output_type": "execute_result"
    }
   ],
   "source": [
    "sample_data.columns"
   ]
  },
  {
   "cell_type": "code",
   "execution_count": 23,
   "id": "4ca0c3d1-1a8a-44d7-a45a-70e9d3f18bc2",
   "metadata": {},
   "outputs": [],
   "source": [
    "df_movies = sample_data[['id','title','overview','genres','cast','crew']]"
   ]
  },
  {
   "cell_type": "code",
   "execution_count": 24,
   "id": "e14a8372-c966-4fac-8e58-0dde1658c752",
   "metadata": {},
   "outputs": [
    {
     "data": {
      "text/html": [
       "<div>\n",
       "<style scoped>\n",
       "    .dataframe tbody tr th:only-of-type {\n",
       "        vertical-align: middle;\n",
       "    }\n",
       "\n",
       "    .dataframe tbody tr th {\n",
       "        vertical-align: top;\n",
       "    }\n",
       "\n",
       "    .dataframe thead th {\n",
       "        text-align: right;\n",
       "    }\n",
       "</style>\n",
       "<table border=\"1\" class=\"dataframe\">\n",
       "  <thead>\n",
       "    <tr style=\"text-align: right;\">\n",
       "      <th></th>\n",
       "      <th>id</th>\n",
       "      <th>id</th>\n",
       "      <th>title</th>\n",
       "      <th>overview</th>\n",
       "      <th>genres</th>\n",
       "      <th>cast</th>\n",
       "      <th>crew</th>\n",
       "    </tr>\n",
       "  </thead>\n",
       "  <tbody>\n",
       "    <tr>\n",
       "      <th>19359</th>\n",
       "      <td>79694</td>\n",
       "      <td>79694.0</td>\n",
       "      <td>The Apparition</td>\n",
       "      <td>Plagued by frightening occurrences in their ho...</td>\n",
       "      <td>[{'id': 27, 'name': 'Horror'}, {'id': 53, 'nam...</td>\n",
       "      <td>[{'cast_id': 1019, 'character': 'Kelly', 'cred...</td>\n",
       "      <td>[{'credit_id': '52fe49e0c3a368484e144eb1', 'de...</td>\n",
       "    </tr>\n",
       "    <tr>\n",
       "      <th>42460</th>\n",
       "      <td>169885</td>\n",
       "      <td>269198.0</td>\n",
       "      <td>Flight of the Butterflies</td>\n",
       "      <td>It takes two or three generations for the mona...</td>\n",
       "      <td>[{'id': 99, 'name': 'Documentary'}]</td>\n",
       "      <td>[{'cast_id': 5, 'character': 'Leo Pfeffer', 'c...</td>\n",
       "      <td>[{'credit_id': '53a9ddf50e0a2646c20002ef', 'de...</td>\n",
       "    </tr>\n",
       "    <tr>\n",
       "      <th>15143</th>\n",
       "      <td>40594</td>\n",
       "      <td>40594.0</td>\n",
       "      <td>Julia Sweeney - Letting Go of God</td>\n",
       "      <td>Julia Sweeney's third autobiographical monolog...</td>\n",
       "      <td>[{'id': 35, 'name': 'Comedy'}, {'id': 99, 'nam...</td>\n",
       "      <td>[{'cast_id': 1, 'character': 'herself', 'credi...</td>\n",
       "      <td>[{'credit_id': '52fe4599c3a36847f80d0339', 'de...</td>\n",
       "    </tr>\n",
       "    <tr>\n",
       "      <th>13734</th>\n",
       "      <td>15588</td>\n",
       "      <td>15588.0</td>\n",
       "      <td>OSS 117: Lost in Rio</td>\n",
       "      <td>French top secret agent, Hubert Bonisseur de l...</td>\n",
       "      <td>[{'id': 80, 'name': 'Crime'}, {'id': 28, 'name...</td>\n",
       "      <td>[{'cast_id': 4, 'character': 'Hubert Bonisseur...</td>\n",
       "      <td>[{'credit_id': '59cbc2fac3a3687797013e24', 'de...</td>\n",
       "    </tr>\n",
       "    <tr>\n",
       "      <th>13972</th>\n",
       "      <td>13730</td>\n",
       "      <td>13730.0</td>\n",
       "      <td>Black Box</td>\n",
       "      <td>An accident survivor wakes from a coma and con...</td>\n",
       "      <td>[{'id': 9648, 'name': 'Mystery'}, {'id': 53, '...</td>\n",
       "      <td>[{'cast_id': 2, 'character': 'Arthur Seligman'...</td>\n",
       "      <td>[{'credit_id': '52fe45929251416c7505b129', 'de...</td>\n",
       "    </tr>\n",
       "  </tbody>\n",
       "</table>\n",
       "</div>"
      ],
      "text/plain": [
       "           id        id                              title  \\\n",
       "19359   79694   79694.0                     The Apparition   \n",
       "42460  169885  269198.0          Flight of the Butterflies   \n",
       "15143   40594   40594.0  Julia Sweeney - Letting Go of God   \n",
       "13734   15588   15588.0               OSS 117: Lost in Rio   \n",
       "13972   13730   13730.0                          Black Box   \n",
       "\n",
       "                                                overview  \\\n",
       "19359  Plagued by frightening occurrences in their ho...   \n",
       "42460  It takes two or three generations for the mona...   \n",
       "15143  Julia Sweeney's third autobiographical monolog...   \n",
       "13734  French top secret agent, Hubert Bonisseur de l...   \n",
       "13972  An accident survivor wakes from a coma and con...   \n",
       "\n",
       "                                                  genres  \\\n",
       "19359  [{'id': 27, 'name': 'Horror'}, {'id': 53, 'nam...   \n",
       "42460                [{'id': 99, 'name': 'Documentary'}]   \n",
       "15143  [{'id': 35, 'name': 'Comedy'}, {'id': 99, 'nam...   \n",
       "13734  [{'id': 80, 'name': 'Crime'}, {'id': 28, 'name...   \n",
       "13972  [{'id': 9648, 'name': 'Mystery'}, {'id': 53, '...   \n",
       "\n",
       "                                                    cast  \\\n",
       "19359  [{'cast_id': 1019, 'character': 'Kelly', 'cred...   \n",
       "42460  [{'cast_id': 5, 'character': 'Leo Pfeffer', 'c...   \n",
       "15143  [{'cast_id': 1, 'character': 'herself', 'credi...   \n",
       "13734  [{'cast_id': 4, 'character': 'Hubert Bonisseur...   \n",
       "13972  [{'cast_id': 2, 'character': 'Arthur Seligman'...   \n",
       "\n",
       "                                                    crew  \n",
       "19359  [{'credit_id': '52fe49e0c3a368484e144eb1', 'de...  \n",
       "42460  [{'credit_id': '53a9ddf50e0a2646c20002ef', 'de...  \n",
       "15143  [{'credit_id': '52fe4599c3a36847f80d0339', 'de...  \n",
       "13734  [{'credit_id': '59cbc2fac3a3687797013e24', 'de...  \n",
       "13972  [{'credit_id': '52fe45929251416c7505b129', 'de...  "
      ]
     },
     "execution_count": 24,
     "metadata": {},
     "output_type": "execute_result"
    }
   ],
   "source": [
    "df_movies.head()"
   ]
  },
  {
   "cell_type": "code",
   "execution_count": 25,
   "id": "e5672db6-3f6b-4c03-9669-c933ec1c888f",
   "metadata": {},
   "outputs": [
    {
     "data": {
      "text/html": [
       "<div>\n",
       "<style scoped>\n",
       "    .dataframe tbody tr th:only-of-type {\n",
       "        vertical-align: middle;\n",
       "    }\n",
       "\n",
       "    .dataframe tbody tr th {\n",
       "        vertical-align: top;\n",
       "    }\n",
       "\n",
       "    .dataframe thead th {\n",
       "        text-align: right;\n",
       "    }\n",
       "</style>\n",
       "<table border=\"1\" class=\"dataframe\">\n",
       "  <thead>\n",
       "    <tr style=\"text-align: right;\">\n",
       "      <th></th>\n",
       "      <th>id</th>\n",
       "      <th>title</th>\n",
       "      <th>overview</th>\n",
       "      <th>genres</th>\n",
       "      <th>cast</th>\n",
       "      <th>crew</th>\n",
       "    </tr>\n",
       "  </thead>\n",
       "  <tbody>\n",
       "    <tr>\n",
       "      <th>19359</th>\n",
       "      <td>79694</td>\n",
       "      <td>The Apparition</td>\n",
       "      <td>Plagued by frightening occurrences in their ho...</td>\n",
       "      <td>[{'id': 27, 'name': 'Horror'}, {'id': 53, 'nam...</td>\n",
       "      <td>[{'cast_id': 1019, 'character': 'Kelly', 'cred...</td>\n",
       "      <td>[{'credit_id': '52fe49e0c3a368484e144eb1', 'de...</td>\n",
       "    </tr>\n",
       "    <tr>\n",
       "      <th>42460</th>\n",
       "      <td>169885</td>\n",
       "      <td>Flight of the Butterflies</td>\n",
       "      <td>It takes two or three generations for the mona...</td>\n",
       "      <td>[{'id': 99, 'name': 'Documentary'}]</td>\n",
       "      <td>[{'cast_id': 5, 'character': 'Leo Pfeffer', 'c...</td>\n",
       "      <td>[{'credit_id': '53a9ddf50e0a2646c20002ef', 'de...</td>\n",
       "    </tr>\n",
       "    <tr>\n",
       "      <th>15143</th>\n",
       "      <td>40594</td>\n",
       "      <td>Julia Sweeney - Letting Go of God</td>\n",
       "      <td>Julia Sweeney's third autobiographical monolog...</td>\n",
       "      <td>[{'id': 35, 'name': 'Comedy'}, {'id': 99, 'nam...</td>\n",
       "      <td>[{'cast_id': 1, 'character': 'herself', 'credi...</td>\n",
       "      <td>[{'credit_id': '52fe4599c3a36847f80d0339', 'de...</td>\n",
       "    </tr>\n",
       "    <tr>\n",
       "      <th>13734</th>\n",
       "      <td>15588</td>\n",
       "      <td>OSS 117: Lost in Rio</td>\n",
       "      <td>French top secret agent, Hubert Bonisseur de l...</td>\n",
       "      <td>[{'id': 80, 'name': 'Crime'}, {'id': 28, 'name...</td>\n",
       "      <td>[{'cast_id': 4, 'character': 'Hubert Bonisseur...</td>\n",
       "      <td>[{'credit_id': '59cbc2fac3a3687797013e24', 'de...</td>\n",
       "    </tr>\n",
       "    <tr>\n",
       "      <th>13972</th>\n",
       "      <td>13730</td>\n",
       "      <td>Black Box</td>\n",
       "      <td>An accident survivor wakes from a coma and con...</td>\n",
       "      <td>[{'id': 9648, 'name': 'Mystery'}, {'id': 53, '...</td>\n",
       "      <td>[{'cast_id': 2, 'character': 'Arthur Seligman'...</td>\n",
       "      <td>[{'credit_id': '52fe45929251416c7505b129', 'de...</td>\n",
       "    </tr>\n",
       "  </tbody>\n",
       "</table>\n",
       "</div>"
      ],
      "text/plain": [
       "           id                              title  \\\n",
       "19359   79694                     The Apparition   \n",
       "42460  169885          Flight of the Butterflies   \n",
       "15143   40594  Julia Sweeney - Letting Go of God   \n",
       "13734   15588               OSS 117: Lost in Rio   \n",
       "13972   13730                          Black Box   \n",
       "\n",
       "                                                overview  \\\n",
       "19359  Plagued by frightening occurrences in their ho...   \n",
       "42460  It takes two or three generations for the mona...   \n",
       "15143  Julia Sweeney's third autobiographical monolog...   \n",
       "13734  French top secret agent, Hubert Bonisseur de l...   \n",
       "13972  An accident survivor wakes from a coma and con...   \n",
       "\n",
       "                                                  genres  \\\n",
       "19359  [{'id': 27, 'name': 'Horror'}, {'id': 53, 'nam...   \n",
       "42460                [{'id': 99, 'name': 'Documentary'}]   \n",
       "15143  [{'id': 35, 'name': 'Comedy'}, {'id': 99, 'nam...   \n",
       "13734  [{'id': 80, 'name': 'Crime'}, {'id': 28, 'name...   \n",
       "13972  [{'id': 9648, 'name': 'Mystery'}, {'id': 53, '...   \n",
       "\n",
       "                                                    cast  \\\n",
       "19359  [{'cast_id': 1019, 'character': 'Kelly', 'cred...   \n",
       "42460  [{'cast_id': 5, 'character': 'Leo Pfeffer', 'c...   \n",
       "15143  [{'cast_id': 1, 'character': 'herself', 'credi...   \n",
       "13734  [{'cast_id': 4, 'character': 'Hubert Bonisseur...   \n",
       "13972  [{'cast_id': 2, 'character': 'Arthur Seligman'...   \n",
       "\n",
       "                                                    crew  \n",
       "19359  [{'credit_id': '52fe49e0c3a368484e144eb1', 'de...  \n",
       "42460  [{'credit_id': '53a9ddf50e0a2646c20002ef', 'de...  \n",
       "15143  [{'credit_id': '52fe4599c3a36847f80d0339', 'de...  \n",
       "13734  [{'credit_id': '59cbc2fac3a3687797013e24', 'de...  \n",
       "13972  [{'credit_id': '52fe45929251416c7505b129', 'de...  "
      ]
     },
     "execution_count": 25,
     "metadata": {},
     "output_type": "execute_result"
    }
   ],
   "source": [
    "# drop dupticate columns\n",
    "df_movies = df_movies.loc[:, ~df_movies.columns.duplicated()]\n",
    "df_movies.head()"
   ]
  },
  {
   "cell_type": "markdown",
   "id": "6551ba3b-81c9-4f5e-bd78-d629d3d467a2",
   "metadata": {},
   "source": [
    "### Let's Check NaN Values"
   ]
  },
  {
   "cell_type": "code",
   "execution_count": 26,
   "id": "adc07f18-d3a0-4b32-9046-4d5e58632fcb",
   "metadata": {},
   "outputs": [
    {
     "data": {
      "text/plain": [
       "id            3\n",
       "title         4\n",
       "overview    206\n",
       "genres        3\n",
       "cast          8\n",
       "crew          8\n",
       "dtype: int64"
      ]
     },
     "execution_count": 26,
     "metadata": {},
     "output_type": "execute_result"
    }
   ],
   "source": [
    "df_movies.isnull().sum()"
   ]
  },
  {
   "cell_type": "code",
   "execution_count": 27,
   "id": "a4bde4e4-c127-431d-b8a2-714a02c5c2bd",
   "metadata": {},
   "outputs": [],
   "source": [
    "df_movies = df_movies.dropna().reset_index(drop=True)"
   ]
  },
  {
   "cell_type": "code",
   "execution_count": 28,
   "id": "27ffe432-f5e5-4a07-afae-3156867ceee6",
   "metadata": {},
   "outputs": [
    {
     "data": {
      "text/html": [
       "<div>\n",
       "<style scoped>\n",
       "    .dataframe tbody tr th:only-of-type {\n",
       "        vertical-align: middle;\n",
       "    }\n",
       "\n",
       "    .dataframe tbody tr th {\n",
       "        vertical-align: top;\n",
       "    }\n",
       "\n",
       "    .dataframe thead th {\n",
       "        text-align: right;\n",
       "    }\n",
       "</style>\n",
       "<table border=\"1\" class=\"dataframe\">\n",
       "  <thead>\n",
       "    <tr style=\"text-align: right;\">\n",
       "      <th></th>\n",
       "      <th>id</th>\n",
       "      <th>title</th>\n",
       "      <th>overview</th>\n",
       "      <th>genres</th>\n",
       "      <th>cast</th>\n",
       "      <th>crew</th>\n",
       "    </tr>\n",
       "  </thead>\n",
       "  <tbody>\n",
       "    <tr>\n",
       "      <th>0</th>\n",
       "      <td>79694</td>\n",
       "      <td>The Apparition</td>\n",
       "      <td>Plagued by frightening occurrences in their ho...</td>\n",
       "      <td>[{'id': 27, 'name': 'Horror'}, {'id': 53, 'nam...</td>\n",
       "      <td>[{'cast_id': 1019, 'character': 'Kelly', 'cred...</td>\n",
       "      <td>[{'credit_id': '52fe49e0c3a368484e144eb1', 'de...</td>\n",
       "    </tr>\n",
       "    <tr>\n",
       "      <th>1</th>\n",
       "      <td>169885</td>\n",
       "      <td>Flight of the Butterflies</td>\n",
       "      <td>It takes two or three generations for the mona...</td>\n",
       "      <td>[{'id': 99, 'name': 'Documentary'}]</td>\n",
       "      <td>[{'cast_id': 5, 'character': 'Leo Pfeffer', 'c...</td>\n",
       "      <td>[{'credit_id': '53a9ddf50e0a2646c20002ef', 'de...</td>\n",
       "    </tr>\n",
       "    <tr>\n",
       "      <th>2</th>\n",
       "      <td>40594</td>\n",
       "      <td>Julia Sweeney - Letting Go of God</td>\n",
       "      <td>Julia Sweeney's third autobiographical monolog...</td>\n",
       "      <td>[{'id': 35, 'name': 'Comedy'}, {'id': 99, 'nam...</td>\n",
       "      <td>[{'cast_id': 1, 'character': 'herself', 'credi...</td>\n",
       "      <td>[{'credit_id': '52fe4599c3a36847f80d0339', 'de...</td>\n",
       "    </tr>\n",
       "    <tr>\n",
       "      <th>3</th>\n",
       "      <td>15588</td>\n",
       "      <td>OSS 117: Lost in Rio</td>\n",
       "      <td>French top secret agent, Hubert Bonisseur de l...</td>\n",
       "      <td>[{'id': 80, 'name': 'Crime'}, {'id': 28, 'name...</td>\n",
       "      <td>[{'cast_id': 4, 'character': 'Hubert Bonisseur...</td>\n",
       "      <td>[{'credit_id': '59cbc2fac3a3687797013e24', 'de...</td>\n",
       "    </tr>\n",
       "    <tr>\n",
       "      <th>4</th>\n",
       "      <td>13730</td>\n",
       "      <td>Black Box</td>\n",
       "      <td>An accident survivor wakes from a coma and con...</td>\n",
       "      <td>[{'id': 9648, 'name': 'Mystery'}, {'id': 53, '...</td>\n",
       "      <td>[{'cast_id': 2, 'character': 'Arthur Seligman'...</td>\n",
       "      <td>[{'credit_id': '52fe45929251416c7505b129', 'de...</td>\n",
       "    </tr>\n",
       "  </tbody>\n",
       "</table>\n",
       "</div>"
      ],
      "text/plain": [
       "       id                              title  \\\n",
       "0   79694                     The Apparition   \n",
       "1  169885          Flight of the Butterflies   \n",
       "2   40594  Julia Sweeney - Letting Go of God   \n",
       "3   15588               OSS 117: Lost in Rio   \n",
       "4   13730                          Black Box   \n",
       "\n",
       "                                            overview  \\\n",
       "0  Plagued by frightening occurrences in their ho...   \n",
       "1  It takes two or three generations for the mona...   \n",
       "2  Julia Sweeney's third autobiographical monolog...   \n",
       "3  French top secret agent, Hubert Bonisseur de l...   \n",
       "4  An accident survivor wakes from a coma and con...   \n",
       "\n",
       "                                              genres  \\\n",
       "0  [{'id': 27, 'name': 'Horror'}, {'id': 53, 'nam...   \n",
       "1                [{'id': 99, 'name': 'Documentary'}]   \n",
       "2  [{'id': 35, 'name': 'Comedy'}, {'id': 99, 'nam...   \n",
       "3  [{'id': 80, 'name': 'Crime'}, {'id': 28, 'name...   \n",
       "4  [{'id': 9648, 'name': 'Mystery'}, {'id': 53, '...   \n",
       "\n",
       "                                                cast  \\\n",
       "0  [{'cast_id': 1019, 'character': 'Kelly', 'cred...   \n",
       "1  [{'cast_id': 5, 'character': 'Leo Pfeffer', 'c...   \n",
       "2  [{'cast_id': 1, 'character': 'herself', 'credi...   \n",
       "3  [{'cast_id': 4, 'character': 'Hubert Bonisseur...   \n",
       "4  [{'cast_id': 2, 'character': 'Arthur Seligman'...   \n",
       "\n",
       "                                                crew  \n",
       "0  [{'credit_id': '52fe49e0c3a368484e144eb1', 'de...  \n",
       "1  [{'credit_id': '53a9ddf50e0a2646c20002ef', 'de...  \n",
       "2  [{'credit_id': '52fe4599c3a36847f80d0339', 'de...  \n",
       "3  [{'credit_id': '59cbc2fac3a3687797013e24', 'de...  \n",
       "4  [{'credit_id': '52fe45929251416c7505b129', 'de...  "
      ]
     },
     "execution_count": 28,
     "metadata": {},
     "output_type": "execute_result"
    }
   ],
   "source": [
    "df_movies.head()"
   ]
  },
  {
   "cell_type": "code",
   "execution_count": 29,
   "id": "d1693d77-63b5-458e-996d-a162a8d7eedc",
   "metadata": {},
   "outputs": [
    {
     "data": {
      "text/plain": [
       "(9785, 6)"
      ]
     },
     "execution_count": 29,
     "metadata": {},
     "output_type": "execute_result"
    }
   ],
   "source": [
    "df_movies.shape"
   ]
  },
  {
   "cell_type": "markdown",
   "id": "550acd5f-1188-40aa-8df3-9aded22bad49",
   "metadata": {},
   "source": [
    "### Extract genres names"
   ]
  },
  {
   "cell_type": "code",
   "execution_count": 30,
   "id": "cbe2aafa-7887-4b3a-a349-629575832c2b",
   "metadata": {},
   "outputs": [],
   "source": [
    "import ast"
   ]
  },
  {
   "cell_type": "code",
   "execution_count": 31,
   "id": "1ea6896f-101e-493a-a469-246bdb84b160",
   "metadata": {},
   "outputs": [],
   "source": [
    "def Extract_name(data):\n",
    "    lst = []\n",
    "    for i in ast.literal_eval(data):\n",
    "        lst.append(i['name'])\n",
    "        \n",
    "    return lst"
   ]
  },
  {
   "cell_type": "code",
   "execution_count": 32,
   "id": "b92daba8-8109-428d-87dd-d49f19bdbb78",
   "metadata": {},
   "outputs": [],
   "source": [
    "df_movies['genres'] = df_movies['genres'].apply(Extract_name)"
   ]
  },
  {
   "cell_type": "code",
   "execution_count": 33,
   "id": "a697a581-7efd-4935-b567-1d7f6f2d42c8",
   "metadata": {},
   "outputs": [],
   "source": [
    "df_movies['cast'] = df_movies['cast'].apply(Extract_name)"
   ]
  },
  {
   "cell_type": "code",
   "execution_count": 34,
   "id": "399b067e-b476-480e-a2d1-baf72b6f0b7a",
   "metadata": {},
   "outputs": [
    {
     "data": {
      "text/html": [
       "<div>\n",
       "<style scoped>\n",
       "    .dataframe tbody tr th:only-of-type {\n",
       "        vertical-align: middle;\n",
       "    }\n",
       "\n",
       "    .dataframe tbody tr th {\n",
       "        vertical-align: top;\n",
       "    }\n",
       "\n",
       "    .dataframe thead th {\n",
       "        text-align: right;\n",
       "    }\n",
       "</style>\n",
       "<table border=\"1\" class=\"dataframe\">\n",
       "  <thead>\n",
       "    <tr style=\"text-align: right;\">\n",
       "      <th></th>\n",
       "      <th>id</th>\n",
       "      <th>title</th>\n",
       "      <th>overview</th>\n",
       "      <th>genres</th>\n",
       "      <th>cast</th>\n",
       "      <th>crew</th>\n",
       "    </tr>\n",
       "  </thead>\n",
       "  <tbody>\n",
       "    <tr>\n",
       "      <th>0</th>\n",
       "      <td>79694</td>\n",
       "      <td>The Apparition</td>\n",
       "      <td>Plagued by frightening occurrences in their ho...</td>\n",
       "      <td>[Horror, Thriller]</td>\n",
       "      <td>[Ashley Greene, Sebastian Stan, Tom Felton, Ju...</td>\n",
       "      <td>[{'credit_id': '52fe49e0c3a368484e144eb1', 'de...</td>\n",
       "    </tr>\n",
       "    <tr>\n",
       "      <th>1</th>\n",
       "      <td>169885</td>\n",
       "      <td>Flight of the Butterflies</td>\n",
       "      <td>It takes two or three generations for the mona...</td>\n",
       "      <td>[Documentary]</td>\n",
       "      <td>[Florian Teichtmeister, Heino Ferch, Melika Fo...</td>\n",
       "      <td>[{'credit_id': '53a9ddf50e0a2646c20002ef', 'de...</td>\n",
       "    </tr>\n",
       "    <tr>\n",
       "      <th>2</th>\n",
       "      <td>40594</td>\n",
       "      <td>Julia Sweeney - Letting Go of God</td>\n",
       "      <td>Julia Sweeney's third autobiographical monolog...</td>\n",
       "      <td>[Comedy, Documentary]</td>\n",
       "      <td>[Julia Sweeney]</td>\n",
       "      <td>[{'credit_id': '52fe4599c3a36847f80d0339', 'de...</td>\n",
       "    </tr>\n",
       "    <tr>\n",
       "      <th>3</th>\n",
       "      <td>15588</td>\n",
       "      <td>OSS 117: Lost in Rio</td>\n",
       "      <td>French top secret agent, Hubert Bonisseur de l...</td>\n",
       "      <td>[Crime, Action, Comedy, Adventure]</td>\n",
       "      <td>[Jean Dujardin, Louise Monot, Pierre Bellemare...</td>\n",
       "      <td>[{'credit_id': '59cbc2fac3a3687797013e24', 'de...</td>\n",
       "    </tr>\n",
       "    <tr>\n",
       "      <th>4</th>\n",
       "      <td>13730</td>\n",
       "      <td>Black Box</td>\n",
       "      <td>An accident survivor wakes from a coma and con...</td>\n",
       "      <td>[Mystery, Thriller]</td>\n",
       "      <td>[José Garcia, Marion Cotillard, Michel Duchaus...</td>\n",
       "      <td>[{'credit_id': '52fe45929251416c7505b129', 'de...</td>\n",
       "    </tr>\n",
       "  </tbody>\n",
       "</table>\n",
       "</div>"
      ],
      "text/plain": [
       "       id                              title  \\\n",
       "0   79694                     The Apparition   \n",
       "1  169885          Flight of the Butterflies   \n",
       "2   40594  Julia Sweeney - Letting Go of God   \n",
       "3   15588               OSS 117: Lost in Rio   \n",
       "4   13730                          Black Box   \n",
       "\n",
       "                                            overview  \\\n",
       "0  Plagued by frightening occurrences in their ho...   \n",
       "1  It takes two or three generations for the mona...   \n",
       "2  Julia Sweeney's third autobiographical monolog...   \n",
       "3  French top secret agent, Hubert Bonisseur de l...   \n",
       "4  An accident survivor wakes from a coma and con...   \n",
       "\n",
       "                               genres  \\\n",
       "0                  [Horror, Thriller]   \n",
       "1                       [Documentary]   \n",
       "2               [Comedy, Documentary]   \n",
       "3  [Crime, Action, Comedy, Adventure]   \n",
       "4                 [Mystery, Thriller]   \n",
       "\n",
       "                                                cast  \\\n",
       "0  [Ashley Greene, Sebastian Stan, Tom Felton, Ju...   \n",
       "1  [Florian Teichtmeister, Heino Ferch, Melika Fo...   \n",
       "2                                    [Julia Sweeney]   \n",
       "3  [Jean Dujardin, Louise Monot, Pierre Bellemare...   \n",
       "4  [José Garcia, Marion Cotillard, Michel Duchaus...   \n",
       "\n",
       "                                                crew  \n",
       "0  [{'credit_id': '52fe49e0c3a368484e144eb1', 'de...  \n",
       "1  [{'credit_id': '53a9ddf50e0a2646c20002ef', 'de...  \n",
       "2  [{'credit_id': '52fe4599c3a36847f80d0339', 'de...  \n",
       "3  [{'credit_id': '59cbc2fac3a3687797013e24', 'de...  \n",
       "4  [{'credit_id': '52fe45929251416c7505b129', 'de...  "
      ]
     },
     "execution_count": 34,
     "metadata": {},
     "output_type": "execute_result"
    }
   ],
   "source": [
    "df_movies.head()"
   ]
  },
  {
   "cell_type": "code",
   "execution_count": 35,
   "id": "a4138a42-4f9b-4eb8-b1f5-574723ea424b",
   "metadata": {},
   "outputs": [],
   "source": [
    "# get top 3 cast \n",
    "df_movies['cast'] = df_movies['cast'].apply(lambda x: x[0:3])"
   ]
  },
  {
   "cell_type": "markdown",
   "id": "06c24173-d0e2-4e59-a7cd-664bc2f9f5c0",
   "metadata": {},
   "source": [
    "### Extract director name"
   ]
  },
  {
   "cell_type": "code",
   "execution_count": 36,
   "id": "74da3573-e8da-4b4f-8869-4550eadcc614",
   "metadata": {},
   "outputs": [],
   "source": [
    "def Extract_director(data):\n",
    "    director_lst = []\n",
    "    for i in ast.literal_eval(data):\n",
    "        if i['job'] == 'Director':\n",
    "            director_lst.append(i['name'])\n",
    "    return director_lst"
   ]
  },
  {
   "cell_type": "code",
   "execution_count": 37,
   "id": "916697ec-367e-4d66-9a2c-60ff7e2d7754",
   "metadata": {},
   "outputs": [],
   "source": [
    "df_movies['crew'] = df_movies['crew'].apply(Extract_director)"
   ]
  },
  {
   "cell_type": "code",
   "execution_count": 38,
   "id": "610dfb0c-a356-474e-9744-64b63ed0ffe5",
   "metadata": {},
   "outputs": [
    {
     "data": {
      "text/html": [
       "<div>\n",
       "<style scoped>\n",
       "    .dataframe tbody tr th:only-of-type {\n",
       "        vertical-align: middle;\n",
       "    }\n",
       "\n",
       "    .dataframe tbody tr th {\n",
       "        vertical-align: top;\n",
       "    }\n",
       "\n",
       "    .dataframe thead th {\n",
       "        text-align: right;\n",
       "    }\n",
       "</style>\n",
       "<table border=\"1\" class=\"dataframe\">\n",
       "  <thead>\n",
       "    <tr style=\"text-align: right;\">\n",
       "      <th></th>\n",
       "      <th>id</th>\n",
       "      <th>title</th>\n",
       "      <th>overview</th>\n",
       "      <th>genres</th>\n",
       "      <th>cast</th>\n",
       "      <th>crew</th>\n",
       "    </tr>\n",
       "  </thead>\n",
       "  <tbody>\n",
       "    <tr>\n",
       "      <th>0</th>\n",
       "      <td>79694</td>\n",
       "      <td>The Apparition</td>\n",
       "      <td>Plagued by frightening occurrences in their ho...</td>\n",
       "      <td>[Horror, Thriller]</td>\n",
       "      <td>[Ashley Greene, Sebastian Stan, Tom Felton]</td>\n",
       "      <td>[Todd Lincoln ]</td>\n",
       "    </tr>\n",
       "    <tr>\n",
       "      <th>1</th>\n",
       "      <td>169885</td>\n",
       "      <td>Flight of the Butterflies</td>\n",
       "      <td>It takes two or three generations for the mona...</td>\n",
       "      <td>[Documentary]</td>\n",
       "      <td>[Florian Teichtmeister, Heino Ferch, Melika Fo...</td>\n",
       "      <td>[Andreas Prochaska]</td>\n",
       "    </tr>\n",
       "    <tr>\n",
       "      <th>2</th>\n",
       "      <td>40594</td>\n",
       "      <td>Julia Sweeney - Letting Go of God</td>\n",
       "      <td>Julia Sweeney's third autobiographical monolog...</td>\n",
       "      <td>[Comedy, Documentary]</td>\n",
       "      <td>[Julia Sweeney]</td>\n",
       "      <td>[Julia Sweeney]</td>\n",
       "    </tr>\n",
       "    <tr>\n",
       "      <th>3</th>\n",
       "      <td>15588</td>\n",
       "      <td>OSS 117: Lost in Rio</td>\n",
       "      <td>French top secret agent, Hubert Bonisseur de l...</td>\n",
       "      <td>[Crime, Action, Comedy, Adventure]</td>\n",
       "      <td>[Jean Dujardin, Louise Monot, Pierre Bellemare]</td>\n",
       "      <td>[Michel Hazanavicius]</td>\n",
       "    </tr>\n",
       "    <tr>\n",
       "      <th>4</th>\n",
       "      <td>13730</td>\n",
       "      <td>Black Box</td>\n",
       "      <td>An accident survivor wakes from a coma and con...</td>\n",
       "      <td>[Mystery, Thriller]</td>\n",
       "      <td>[José Garcia, Marion Cotillard, Michel Duchaus...</td>\n",
       "      <td>[Richard Berry]</td>\n",
       "    </tr>\n",
       "  </tbody>\n",
       "</table>\n",
       "</div>"
      ],
      "text/plain": [
       "       id                              title  \\\n",
       "0   79694                     The Apparition   \n",
       "1  169885          Flight of the Butterflies   \n",
       "2   40594  Julia Sweeney - Letting Go of God   \n",
       "3   15588               OSS 117: Lost in Rio   \n",
       "4   13730                          Black Box   \n",
       "\n",
       "                                            overview  \\\n",
       "0  Plagued by frightening occurrences in their ho...   \n",
       "1  It takes two or three generations for the mona...   \n",
       "2  Julia Sweeney's third autobiographical monolog...   \n",
       "3  French top secret agent, Hubert Bonisseur de l...   \n",
       "4  An accident survivor wakes from a coma and con...   \n",
       "\n",
       "                               genres  \\\n",
       "0                  [Horror, Thriller]   \n",
       "1                       [Documentary]   \n",
       "2               [Comedy, Documentary]   \n",
       "3  [Crime, Action, Comedy, Adventure]   \n",
       "4                 [Mystery, Thriller]   \n",
       "\n",
       "                                                cast                   crew  \n",
       "0        [Ashley Greene, Sebastian Stan, Tom Felton]        [Todd Lincoln ]  \n",
       "1  [Florian Teichtmeister, Heino Ferch, Melika Fo...    [Andreas Prochaska]  \n",
       "2                                    [Julia Sweeney]        [Julia Sweeney]  \n",
       "3    [Jean Dujardin, Louise Monot, Pierre Bellemare]  [Michel Hazanavicius]  \n",
       "4  [José Garcia, Marion Cotillard, Michel Duchaus...        [Richard Berry]  "
      ]
     },
     "execution_count": 38,
     "metadata": {},
     "output_type": "execute_result"
    }
   ],
   "source": [
    "df_movies.head()"
   ]
  },
  {
   "cell_type": "markdown",
   "id": "69faa18b-c6b4-4b54-a472-7cf4725161b0",
   "metadata": {},
   "source": [
    "### Remove spaces"
   ]
  },
  {
   "cell_type": "code",
   "execution_count": 39,
   "id": "53f64759-7669-4106-abf4-8b9d537ea6cb",
   "metadata": {},
   "outputs": [],
   "source": [
    "def remove_spaces(data):\n",
    "    l1 = []\n",
    "    for i in data:\n",
    "        l1.append(i.replace(\" \", \"\"))\n",
    "    return l1"
   ]
  },
  {
   "cell_type": "code",
   "execution_count": 40,
   "id": "4ff3cb6f-d3dd-4b7b-ac32-f3a32203f172",
   "metadata": {},
   "outputs": [],
   "source": [
    "df_movies['cast'] = df_movies['cast'].apply(remove_spaces)\n",
    "df_movies['crew'] = df_movies['crew'].apply(remove_spaces)\n",
    "df_movies['genres'] = df_movies['genres'].apply(remove_spaces)"
   ]
  },
  {
   "cell_type": "code",
   "execution_count": 41,
   "id": "a569d9ac-f0ca-4831-bff2-35e073c5660c",
   "metadata": {},
   "outputs": [
    {
     "data": {
      "text/html": [
       "<div>\n",
       "<style scoped>\n",
       "    .dataframe tbody tr th:only-of-type {\n",
       "        vertical-align: middle;\n",
       "    }\n",
       "\n",
       "    .dataframe tbody tr th {\n",
       "        vertical-align: top;\n",
       "    }\n",
       "\n",
       "    .dataframe thead th {\n",
       "        text-align: right;\n",
       "    }\n",
       "</style>\n",
       "<table border=\"1\" class=\"dataframe\">\n",
       "  <thead>\n",
       "    <tr style=\"text-align: right;\">\n",
       "      <th></th>\n",
       "      <th>id</th>\n",
       "      <th>title</th>\n",
       "      <th>overview</th>\n",
       "      <th>genres</th>\n",
       "      <th>cast</th>\n",
       "      <th>crew</th>\n",
       "    </tr>\n",
       "  </thead>\n",
       "  <tbody>\n",
       "    <tr>\n",
       "      <th>0</th>\n",
       "      <td>79694</td>\n",
       "      <td>The Apparition</td>\n",
       "      <td>Plagued by frightening occurrences in their ho...</td>\n",
       "      <td>[Horror, Thriller]</td>\n",
       "      <td>[AshleyGreene, SebastianStan, TomFelton]</td>\n",
       "      <td>[ToddLincoln]</td>\n",
       "    </tr>\n",
       "    <tr>\n",
       "      <th>1</th>\n",
       "      <td>169885</td>\n",
       "      <td>Flight of the Butterflies</td>\n",
       "      <td>It takes two or three generations for the mona...</td>\n",
       "      <td>[Documentary]</td>\n",
       "      <td>[FlorianTeichtmeister, HeinoFerch, MelikaForou...</td>\n",
       "      <td>[AndreasProchaska]</td>\n",
       "    </tr>\n",
       "    <tr>\n",
       "      <th>2</th>\n",
       "      <td>40594</td>\n",
       "      <td>Julia Sweeney - Letting Go of God</td>\n",
       "      <td>Julia Sweeney's third autobiographical monolog...</td>\n",
       "      <td>[Comedy, Documentary]</td>\n",
       "      <td>[JuliaSweeney]</td>\n",
       "      <td>[JuliaSweeney]</td>\n",
       "    </tr>\n",
       "    <tr>\n",
       "      <th>3</th>\n",
       "      <td>15588</td>\n",
       "      <td>OSS 117: Lost in Rio</td>\n",
       "      <td>French top secret agent, Hubert Bonisseur de l...</td>\n",
       "      <td>[Crime, Action, Comedy, Adventure]</td>\n",
       "      <td>[JeanDujardin, LouiseMonot, PierreBellemare]</td>\n",
       "      <td>[MichelHazanavicius]</td>\n",
       "    </tr>\n",
       "    <tr>\n",
       "      <th>4</th>\n",
       "      <td>13730</td>\n",
       "      <td>Black Box</td>\n",
       "      <td>An accident survivor wakes from a coma and con...</td>\n",
       "      <td>[Mystery, Thriller]</td>\n",
       "      <td>[JoséGarcia, MarionCotillard, MichelDuchaussoy]</td>\n",
       "      <td>[RichardBerry]</td>\n",
       "    </tr>\n",
       "  </tbody>\n",
       "</table>\n",
       "</div>"
      ],
      "text/plain": [
       "       id                              title  \\\n",
       "0   79694                     The Apparition   \n",
       "1  169885          Flight of the Butterflies   \n",
       "2   40594  Julia Sweeney - Letting Go of God   \n",
       "3   15588               OSS 117: Lost in Rio   \n",
       "4   13730                          Black Box   \n",
       "\n",
       "                                            overview  \\\n",
       "0  Plagued by frightening occurrences in their ho...   \n",
       "1  It takes two or three generations for the mona...   \n",
       "2  Julia Sweeney's third autobiographical monolog...   \n",
       "3  French top secret agent, Hubert Bonisseur de l...   \n",
       "4  An accident survivor wakes from a coma and con...   \n",
       "\n",
       "                               genres  \\\n",
       "0                  [Horror, Thriller]   \n",
       "1                       [Documentary]   \n",
       "2               [Comedy, Documentary]   \n",
       "3  [Crime, Action, Comedy, Adventure]   \n",
       "4                 [Mystery, Thriller]   \n",
       "\n",
       "                                                cast                  crew  \n",
       "0           [AshleyGreene, SebastianStan, TomFelton]         [ToddLincoln]  \n",
       "1  [FlorianTeichtmeister, HeinoFerch, MelikaForou...    [AndreasProchaska]  \n",
       "2                                     [JuliaSweeney]        [JuliaSweeney]  \n",
       "3       [JeanDujardin, LouiseMonot, PierreBellemare]  [MichelHazanavicius]  \n",
       "4    [JoséGarcia, MarionCotillard, MichelDuchaussoy]        [RichardBerry]  "
      ]
     },
     "execution_count": 41,
     "metadata": {},
     "output_type": "execute_result"
    }
   ],
   "source": [
    "df_movies.head()"
   ]
  },
  {
   "cell_type": "markdown",
   "id": "84b7fc6c-5588-4020-a2ee-29b763f46cf0",
   "metadata": {},
   "source": [
    "### Combine all features "
   ]
  },
  {
   "cell_type": "code",
   "execution_count": 42,
   "id": "0ef5cab0-05de-420a-b7ad-6734fe403df6",
   "metadata": {},
   "outputs": [],
   "source": [
    "df_movies['overview'] = df_movies['overview'].apply(lambda x: x.split())"
   ]
  },
  {
   "cell_type": "code",
   "execution_count": 43,
   "id": "b7acabb4-b274-4a3e-a62e-b364c5043a93",
   "metadata": {},
   "outputs": [],
   "source": [
    "df_movies['movies_info'] = df_movies['overview'] + df_movies['genres'] + df_movies['cast'] + df_movies['crew']"
   ]
  },
  {
   "cell_type": "code",
   "execution_count": 44,
   "id": "1d6a8a42-9629-44c2-afff-db41af89d0f8",
   "metadata": {},
   "outputs": [
    {
     "data": {
      "text/html": [
       "<div>\n",
       "<style scoped>\n",
       "    .dataframe tbody tr th:only-of-type {\n",
       "        vertical-align: middle;\n",
       "    }\n",
       "\n",
       "    .dataframe tbody tr th {\n",
       "        vertical-align: top;\n",
       "    }\n",
       "\n",
       "    .dataframe thead th {\n",
       "        text-align: right;\n",
       "    }\n",
       "</style>\n",
       "<table border=\"1\" class=\"dataframe\">\n",
       "  <thead>\n",
       "    <tr style=\"text-align: right;\">\n",
       "      <th></th>\n",
       "      <th>id</th>\n",
       "      <th>title</th>\n",
       "      <th>overview</th>\n",
       "      <th>genres</th>\n",
       "      <th>cast</th>\n",
       "      <th>crew</th>\n",
       "      <th>movies_info</th>\n",
       "    </tr>\n",
       "  </thead>\n",
       "  <tbody>\n",
       "    <tr>\n",
       "      <th>0</th>\n",
       "      <td>79694</td>\n",
       "      <td>The Apparition</td>\n",
       "      <td>[Plagued, by, frightening, occurrences, in, th...</td>\n",
       "      <td>[Horror, Thriller]</td>\n",
       "      <td>[AshleyGreene, SebastianStan, TomFelton]</td>\n",
       "      <td>[ToddLincoln]</td>\n",
       "      <td>[Plagued, by, frightening, occurrences, in, th...</td>\n",
       "    </tr>\n",
       "    <tr>\n",
       "      <th>1</th>\n",
       "      <td>169885</td>\n",
       "      <td>Flight of the Butterflies</td>\n",
       "      <td>[It, takes, two, or, three, generations, for, ...</td>\n",
       "      <td>[Documentary]</td>\n",
       "      <td>[FlorianTeichtmeister, HeinoFerch, MelikaForou...</td>\n",
       "      <td>[AndreasProchaska]</td>\n",
       "      <td>[It, takes, two, or, three, generations, for, ...</td>\n",
       "    </tr>\n",
       "    <tr>\n",
       "      <th>2</th>\n",
       "      <td>40594</td>\n",
       "      <td>Julia Sweeney - Letting Go of God</td>\n",
       "      <td>[Julia, Sweeney's, third, autobiographical, mo...</td>\n",
       "      <td>[Comedy, Documentary]</td>\n",
       "      <td>[JuliaSweeney]</td>\n",
       "      <td>[JuliaSweeney]</td>\n",
       "      <td>[Julia, Sweeney's, third, autobiographical, mo...</td>\n",
       "    </tr>\n",
       "    <tr>\n",
       "      <th>3</th>\n",
       "      <td>15588</td>\n",
       "      <td>OSS 117: Lost in Rio</td>\n",
       "      <td>[French, top, secret, agent,, Hubert, Bonisseu...</td>\n",
       "      <td>[Crime, Action, Comedy, Adventure]</td>\n",
       "      <td>[JeanDujardin, LouiseMonot, PierreBellemare]</td>\n",
       "      <td>[MichelHazanavicius]</td>\n",
       "      <td>[French, top, secret, agent,, Hubert, Bonisseu...</td>\n",
       "    </tr>\n",
       "    <tr>\n",
       "      <th>4</th>\n",
       "      <td>13730</td>\n",
       "      <td>Black Box</td>\n",
       "      <td>[An, accident, survivor, wakes, from, a, coma,...</td>\n",
       "      <td>[Mystery, Thriller]</td>\n",
       "      <td>[JoséGarcia, MarionCotillard, MichelDuchaussoy]</td>\n",
       "      <td>[RichardBerry]</td>\n",
       "      <td>[An, accident, survivor, wakes, from, a, coma,...</td>\n",
       "    </tr>\n",
       "  </tbody>\n",
       "</table>\n",
       "</div>"
      ],
      "text/plain": [
       "       id                              title  \\\n",
       "0   79694                     The Apparition   \n",
       "1  169885          Flight of the Butterflies   \n",
       "2   40594  Julia Sweeney - Letting Go of God   \n",
       "3   15588               OSS 117: Lost in Rio   \n",
       "4   13730                          Black Box   \n",
       "\n",
       "                                            overview  \\\n",
       "0  [Plagued, by, frightening, occurrences, in, th...   \n",
       "1  [It, takes, two, or, three, generations, for, ...   \n",
       "2  [Julia, Sweeney's, third, autobiographical, mo...   \n",
       "3  [French, top, secret, agent,, Hubert, Bonisseu...   \n",
       "4  [An, accident, survivor, wakes, from, a, coma,...   \n",
       "\n",
       "                               genres  \\\n",
       "0                  [Horror, Thriller]   \n",
       "1                       [Documentary]   \n",
       "2               [Comedy, Documentary]   \n",
       "3  [Crime, Action, Comedy, Adventure]   \n",
       "4                 [Mystery, Thriller]   \n",
       "\n",
       "                                                cast                  crew  \\\n",
       "0           [AshleyGreene, SebastianStan, TomFelton]         [ToddLincoln]   \n",
       "1  [FlorianTeichtmeister, HeinoFerch, MelikaForou...    [AndreasProchaska]   \n",
       "2                                     [JuliaSweeney]        [JuliaSweeney]   \n",
       "3       [JeanDujardin, LouiseMonot, PierreBellemare]  [MichelHazanavicius]   \n",
       "4    [JoséGarcia, MarionCotillard, MichelDuchaussoy]        [RichardBerry]   \n",
       "\n",
       "                                         movies_info  \n",
       "0  [Plagued, by, frightening, occurrences, in, th...  \n",
       "1  [It, takes, two, or, three, generations, for, ...  \n",
       "2  [Julia, Sweeney's, third, autobiographical, mo...  \n",
       "3  [French, top, secret, agent,, Hubert, Bonisseu...  \n",
       "4  [An, accident, survivor, wakes, from, a, coma,...  "
      ]
     },
     "execution_count": 44,
     "metadata": {},
     "output_type": "execute_result"
    }
   ],
   "source": [
    "df_movies.head()"
   ]
  },
  {
   "cell_type": "code",
   "execution_count": 45,
   "id": "c0033c39-fe89-4ad8-8536-54e261cd9f8b",
   "metadata": {},
   "outputs": [],
   "source": [
    "final_data = df_movies[['id','title','movies_info']]"
   ]
  },
  {
   "cell_type": "code",
   "execution_count": 46,
   "id": "f01c9744-f189-4bc9-bc6f-86d7993c2ba7",
   "metadata": {},
   "outputs": [],
   "source": [
    "final_data['movies_info'] = final_data['movies_info'].apply(lambda x: ' '.join(x))"
   ]
  },
  {
   "cell_type": "code",
   "execution_count": 47,
   "id": "0bbc237d-5cc1-4c4d-b1cb-cd144ba1156b",
   "metadata": {},
   "outputs": [],
   "source": [
    "final_data['title'] = final_data['title'].str.lower()"
   ]
  },
  {
   "cell_type": "code",
   "execution_count": 48,
   "id": "6953fcbc-0f54-4184-b7ff-ca84bf51b69e",
   "metadata": {},
   "outputs": [
    {
     "data": {
      "text/html": [
       "<div>\n",
       "<style scoped>\n",
       "    .dataframe tbody tr th:only-of-type {\n",
       "        vertical-align: middle;\n",
       "    }\n",
       "\n",
       "    .dataframe tbody tr th {\n",
       "        vertical-align: top;\n",
       "    }\n",
       "\n",
       "    .dataframe thead th {\n",
       "        text-align: right;\n",
       "    }\n",
       "</style>\n",
       "<table border=\"1\" class=\"dataframe\">\n",
       "  <thead>\n",
       "    <tr style=\"text-align: right;\">\n",
       "      <th></th>\n",
       "      <th>id</th>\n",
       "      <th>title</th>\n",
       "      <th>movies_info</th>\n",
       "    </tr>\n",
       "  </thead>\n",
       "  <tbody>\n",
       "    <tr>\n",
       "      <th>0</th>\n",
       "      <td>79694</td>\n",
       "      <td>the apparition</td>\n",
       "      <td>Plagued by frightening occurrences in their ho...</td>\n",
       "    </tr>\n",
       "    <tr>\n",
       "      <th>1</th>\n",
       "      <td>169885</td>\n",
       "      <td>flight of the butterflies</td>\n",
       "      <td>It takes two or three generations for the mona...</td>\n",
       "    </tr>\n",
       "    <tr>\n",
       "      <th>2</th>\n",
       "      <td>40594</td>\n",
       "      <td>julia sweeney - letting go of god</td>\n",
       "      <td>Julia Sweeney's third autobiographical monolog...</td>\n",
       "    </tr>\n",
       "    <tr>\n",
       "      <th>3</th>\n",
       "      <td>15588</td>\n",
       "      <td>oss 117: lost in rio</td>\n",
       "      <td>French top secret agent, Hubert Bonisseur de l...</td>\n",
       "    </tr>\n",
       "    <tr>\n",
       "      <th>4</th>\n",
       "      <td>13730</td>\n",
       "      <td>black box</td>\n",
       "      <td>An accident survivor wakes from a coma and con...</td>\n",
       "    </tr>\n",
       "  </tbody>\n",
       "</table>\n",
       "</div>"
      ],
      "text/plain": [
       "       id                              title  \\\n",
       "0   79694                     the apparition   \n",
       "1  169885          flight of the butterflies   \n",
       "2   40594  julia sweeney - letting go of god   \n",
       "3   15588               oss 117: lost in rio   \n",
       "4   13730                          black box   \n",
       "\n",
       "                                         movies_info  \n",
       "0  Plagued by frightening occurrences in their ho...  \n",
       "1  It takes two or three generations for the mona...  \n",
       "2  Julia Sweeney's third autobiographical monolog...  \n",
       "3  French top secret agent, Hubert Bonisseur de l...  \n",
       "4  An accident survivor wakes from a coma and con...  "
      ]
     },
     "execution_count": 48,
     "metadata": {},
     "output_type": "execute_result"
    }
   ],
   "source": [
    "final_data.head()"
   ]
  },
  {
   "cell_type": "markdown",
   "id": "cddfb7c4-9a22-4c75-a356-8d02060141fe",
   "metadata": {},
   "source": [
    "## Model building"
   ]
  },
  {
   "cell_type": "markdown",
   "id": "75504aa8-1de4-4bdb-93f8-7e5b24c15c3c",
   "metadata": {},
   "source": [
    "### TF-IDF Vectorizer"
   ]
  },
  {
   "cell_type": "code",
   "execution_count": 55,
   "id": "fa3604bc-30b6-4f10-b2b4-43b46622e711",
   "metadata": {},
   "outputs": [],
   "source": [
    "from sklearn.feature_extraction.text import TfidfVectorizer"
   ]
  },
  {
   "cell_type": "code",
   "execution_count": 56,
   "id": "edccc89c-399c-43f0-a3f7-c55dc83fedd1",
   "metadata": {},
   "outputs": [],
   "source": [
    "tf_vec = TfidfVectorizer(max_features=2500, stop_words='english')\n",
    "\n",
    "# fit the data\n",
    "X = tf_vec.fit_transform(final_data['movies_info']).toarray()"
   ]
  },
  {
   "cell_type": "code",
   "execution_count": 57,
   "id": "262eb80b-25ea-42f4-abb2-13bb52f860c9",
   "metadata": {},
   "outputs": [
    {
     "data": {
      "text/plain": [
       "(9785, 2500)"
      ]
     },
     "execution_count": 57,
     "metadata": {},
     "output_type": "execute_result"
    }
   ],
   "source": [
    "X.shape"
   ]
  },
  {
   "cell_type": "markdown",
   "id": "01913040-751d-4551-9bc0-f5a7a8420d16",
   "metadata": {},
   "source": [
    "### Cosine Similarity                                                 "
   ]
  },
  {
   "cell_type": "code",
   "execution_count": 58,
   "id": "3b4cfddd-5017-4e42-9cfa-853f2e2b7dfb",
   "metadata": {},
   "outputs": [],
   "source": [
    "from sklearn.metrics.pairwise import cosine_similarity\n",
    "\n",
    "similarity = cosine_similarity(X)"
   ]
  },
  {
   "cell_type": "code",
   "execution_count": 59,
   "id": "9f9b5eef-b295-46b6-a9a8-8d88ec7bbd2c",
   "metadata": {},
   "outputs": [
    {
     "data": {
      "text/plain": [
       "(9785, 9785)"
      ]
     },
     "execution_count": 59,
     "metadata": {},
     "output_type": "execute_result"
    }
   ],
   "source": [
    "similarity.shape"
   ]
  },
  {
   "cell_type": "code",
   "execution_count": 60,
   "id": "5c885f3b-3530-4641-aa64-495119208475",
   "metadata": {},
   "outputs": [
    {
     "data": {
      "text/plain": [
       "array([[1.        , 0.        , 0.        , ..., 0.        , 0.        ,\n",
       "        0.02019275],\n",
       "       [0.        , 1.        , 0.10060884, ..., 0.11192872, 0.        ,\n",
       "        0.        ],\n",
       "       [0.        , 0.10060884, 1.        , ..., 0.00921681, 0.08550174,\n",
       "        0.        ],\n",
       "       ...,\n",
       "       [0.        , 0.11192872, 0.00921681, ..., 1.        , 0.        ,\n",
       "        0.        ],\n",
       "       [0.        , 0.        , 0.08550174, ..., 0.        , 1.        ,\n",
       "        0.        ],\n",
       "       [0.02019275, 0.        , 0.        , ..., 0.        , 0.        ,\n",
       "        1.        ]])"
      ]
     },
     "execution_count": 60,
     "metadata": {},
     "output_type": "execute_result"
    }
   ],
   "source": [
    "similarity"
   ]
  },
  {
   "cell_type": "code",
   "execution_count": 61,
   "id": "fcebc4c6-8f16-4637-a07b-3147bf299b1f",
   "metadata": {},
   "outputs": [],
   "source": [
    "def Recommend_movies(movie_name):\n",
    "    movie = movie_name.lower()\n",
    "    if movie not in final_data['title'].unique():\n",
    "        print(f\"Sorry! The movie {movie} you requested is not found in our database. Please check the spelling or try with some other movies\")\n",
    "    else:\n",
    "        index_val = final_data[final_data['title'] == movie].index[0]\n",
    "        similar_movies = sorted(list(enumerate(similarity[index_val])),reverse=True, key=lambda x:x[1])\n",
    "        recommeded_movies = []\n",
    "        for i in similar_movies[0:8]:\n",
    "            recommeded_movies.append(final_data.iloc[i[0]].title)\n",
    "            \n",
    "        return recommeded_movies"
   ]
  },
  {
   "cell_type": "code",
   "execution_count": 71,
   "id": "f65aa5f7-7994-4b21-9389-58bfea03b171",
   "metadata": {},
   "outputs": [
    {
     "data": {
      "text/plain": [
       "['the apparition',\n",
       " 'are you here',\n",
       " 'man of the house',\n",
       " 'song of the sea',\n",
       " 'trapped in the closet: chapters 1-12',\n",
       " 'the rawhide years',\n",
       " \"the possession of david o'reilly\",\n",
       " 'alien apocalypse']"
      ]
     },
     "execution_count": 71,
     "metadata": {},
     "output_type": "execute_result"
    }
   ],
   "source": [
    "Recommend_movies('the apparition')"
   ]
  },
  {
   "cell_type": "code",
   "execution_count": 72,
   "id": "41686772-c105-4946-aaee-876c0ad8c3ef",
   "metadata": {},
   "outputs": [],
   "source": [
    "import pickle"
   ]
  },
  {
   "cell_type": "code",
   "execution_count": 73,
   "id": "79cc49c4",
   "metadata": {},
   "outputs": [],
   "source": [
    "pickle.dump(final_data,open('movies1.pkl', 'wb'))\n",
    "pickle.dump(similarity,open('similarity1.pkl','wb'))"
   ]
  },
  {
   "cell_type": "code",
   "execution_count": 74,
   "id": "d2e6c27b-8095-44c2-acb3-eaef12417ef5",
   "metadata": {},
   "outputs": [
    {
     "name": "stdout",
     "output_type": "stream",
     "text": [
      "CPU times: total: 562 ms\n",
      "Wall time: 613 ms\n"
     ]
    }
   ],
   "source": [
    "%%time\n",
    "data = pickle.load(open('similarity1.pkl', 'rb'))"
   ]
  },
  {
   "cell_type": "code",
   "execution_count": 76,
   "id": "2b9f18eb-d14f-4100-b690-46d086f962d9",
   "metadata": {},
   "outputs": [
    {
     "data": {
      "text/plain": [
       "(9785, 9785)"
      ]
     },
     "execution_count": 76,
     "metadata": {},
     "output_type": "execute_result"
    }
   ],
   "source": [
    "data.shape"
   ]
  },
  {
   "cell_type": "code",
   "execution_count": null,
   "id": "752b0f29-1d2b-43c4-b7d6-e22e0dda0fd2",
   "metadata": {},
   "outputs": [],
   "source": []
  }
 ],
 "metadata": {
  "kernelspec": {
   "display_name": "Python 3 (ipykernel)",
   "language": "python",
   "name": "python3"
  },
  "language_info": {
   "codemirror_mode": {
    "name": "ipython",
    "version": 3
   },
   "file_extension": ".py",
   "mimetype": "text/x-python",
   "name": "python",
   "nbconvert_exporter": "python",
   "pygments_lexer": "ipython3",
   "version": "3.9.12"
  },
  "vscode": {
   "interpreter": {
    "hash": "87a6e55206318c8e838e9a5dc9f15bf6eb138bab9524fac30ddc660599318ea7"
   }
  }
 },
 "nbformat": 4,
 "nbformat_minor": 5
}
